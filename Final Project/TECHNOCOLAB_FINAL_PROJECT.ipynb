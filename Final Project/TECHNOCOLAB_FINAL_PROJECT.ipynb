{
 "cells": [
  {
   "cell_type": "markdown",
   "metadata": {},
   "source": [
    "# Classify Song Genres from Audio Data\n",
    "### Final Project"
   ]
  },
  {
   "cell_type": "markdown",
   "metadata": {},
   "source": [
    "## Task-1: Preparing our Data Set"
   ]
  },
  {
   "cell_type": "code",
   "execution_count": 1,
   "metadata": {},
   "outputs": [],
   "source": [
    "import pandas as pd\n",
    "import numpy as np\n",
    "import matplotlib.pyplot as plt"
   ]
  },
  {
   "cell_type": "code",
   "execution_count": 2,
   "metadata": {},
   "outputs": [],
   "source": [
    "track = pd.read_csv('fma-rock-vs-hiphop.csv')\n",
    "echonest_metrics = pd.read_json('echonest-metrics.json',precise_float = True)"
   ]
  },
  {
   "cell_type": "code",
   "execution_count": 3,
   "metadata": {},
   "outputs": [
    {
     "data": {
      "text/html": [
       "<div>\n",
       "<style scoped>\n",
       "    .dataframe tbody tr th:only-of-type {\n",
       "        vertical-align: middle;\n",
       "    }\n",
       "\n",
       "    .dataframe tbody tr th {\n",
       "        vertical-align: top;\n",
       "    }\n",
       "\n",
       "    .dataframe thead th {\n",
       "        text-align: right;\n",
       "    }\n",
       "</style>\n",
       "<table border=\"1\" class=\"dataframe\">\n",
       "  <thead>\n",
       "    <tr style=\"text-align: right;\">\n",
       "      <th></th>\n",
       "      <th>track_id</th>\n",
       "      <th>bit_rate</th>\n",
       "      <th>comments</th>\n",
       "      <th>composer</th>\n",
       "      <th>date_created</th>\n",
       "      <th>date_recorded</th>\n",
       "      <th>duration</th>\n",
       "      <th>favorites</th>\n",
       "      <th>genre_top</th>\n",
       "      <th>genres</th>\n",
       "      <th>...</th>\n",
       "      <th>information</th>\n",
       "      <th>interest</th>\n",
       "      <th>language_code</th>\n",
       "      <th>license</th>\n",
       "      <th>listens</th>\n",
       "      <th>lyricist</th>\n",
       "      <th>number</th>\n",
       "      <th>publisher</th>\n",
       "      <th>tags</th>\n",
       "      <th>title</th>\n",
       "    </tr>\n",
       "  </thead>\n",
       "  <tbody>\n",
       "    <tr>\n",
       "      <th>0</th>\n",
       "      <td>135</td>\n",
       "      <td>256000</td>\n",
       "      <td>1</td>\n",
       "      <td>NaN</td>\n",
       "      <td>2008-11-26 01:43:26</td>\n",
       "      <td>2008-11-26 00:00:00</td>\n",
       "      <td>837</td>\n",
       "      <td>0</td>\n",
       "      <td>Rock</td>\n",
       "      <td>[45, 58]</td>\n",
       "      <td>...</td>\n",
       "      <td>NaN</td>\n",
       "      <td>2484</td>\n",
       "      <td>en</td>\n",
       "      <td>Attribution-NonCommercial-ShareAlike 3.0 Inter...</td>\n",
       "      <td>1832</td>\n",
       "      <td>NaN</td>\n",
       "      <td>0</td>\n",
       "      <td>NaN</td>\n",
       "      <td>[]</td>\n",
       "      <td>Father's Day</td>\n",
       "    </tr>\n",
       "    <tr>\n",
       "      <th>1</th>\n",
       "      <td>136</td>\n",
       "      <td>256000</td>\n",
       "      <td>1</td>\n",
       "      <td>NaN</td>\n",
       "      <td>2008-11-26 01:43:35</td>\n",
       "      <td>2008-11-26 00:00:00</td>\n",
       "      <td>509</td>\n",
       "      <td>0</td>\n",
       "      <td>Rock</td>\n",
       "      <td>[45, 58]</td>\n",
       "      <td>...</td>\n",
       "      <td>NaN</td>\n",
       "      <td>1948</td>\n",
       "      <td>en</td>\n",
       "      <td>Attribution-NonCommercial-ShareAlike 3.0 Inter...</td>\n",
       "      <td>1498</td>\n",
       "      <td>NaN</td>\n",
       "      <td>0</td>\n",
       "      <td>NaN</td>\n",
       "      <td>[]</td>\n",
       "      <td>Peel Back The Mountain Sky</td>\n",
       "    </tr>\n",
       "  </tbody>\n",
       "</table>\n",
       "<p>2 rows × 21 columns</p>\n",
       "</div>"
      ],
      "text/plain": [
       "   track_id  bit_rate  comments composer         date_created  \\\n",
       "0       135    256000         1      NaN  2008-11-26 01:43:26   \n",
       "1       136    256000         1      NaN  2008-11-26 01:43:35   \n",
       "\n",
       "         date_recorded  duration  favorites genre_top    genres  ...  \\\n",
       "0  2008-11-26 00:00:00       837          0      Rock  [45, 58]  ...   \n",
       "1  2008-11-26 00:00:00       509          0      Rock  [45, 58]  ...   \n",
       "\n",
       "  information interest  language_code  \\\n",
       "0         NaN     2484             en   \n",
       "1         NaN     1948             en   \n",
       "\n",
       "                                             license listens  lyricist number  \\\n",
       "0  Attribution-NonCommercial-ShareAlike 3.0 Inter...    1832       NaN      0   \n",
       "1  Attribution-NonCommercial-ShareAlike 3.0 Inter...    1498       NaN      0   \n",
       "\n",
       "   publisher tags                       title  \n",
       "0        NaN   []                Father's Day  \n",
       "1        NaN   []  Peel Back The Mountain Sky  \n",
       "\n",
       "[2 rows x 21 columns]"
      ]
     },
     "execution_count": 3,
     "metadata": {},
     "output_type": "execute_result"
    }
   ],
   "source": [
    "track.head(2)"
   ]
  },
  {
   "cell_type": "code",
   "execution_count": 4,
   "metadata": {},
   "outputs": [
    {
     "data": {
      "text/html": [
       "<div>\n",
       "<style scoped>\n",
       "    .dataframe tbody tr th:only-of-type {\n",
       "        vertical-align: middle;\n",
       "    }\n",
       "\n",
       "    .dataframe tbody tr th {\n",
       "        vertical-align: top;\n",
       "    }\n",
       "\n",
       "    .dataframe thead th {\n",
       "        text-align: right;\n",
       "    }\n",
       "</style>\n",
       "<table border=\"1\" class=\"dataframe\">\n",
       "  <thead>\n",
       "    <tr style=\"text-align: right;\">\n",
       "      <th></th>\n",
       "      <th>track_id</th>\n",
       "      <th>acousticness</th>\n",
       "      <th>danceability</th>\n",
       "      <th>energy</th>\n",
       "      <th>instrumentalness</th>\n",
       "      <th>liveness</th>\n",
       "      <th>speechiness</th>\n",
       "      <th>tempo</th>\n",
       "      <th>valence</th>\n",
       "    </tr>\n",
       "  </thead>\n",
       "  <tbody>\n",
       "    <tr>\n",
       "      <th>0</th>\n",
       "      <td>2</td>\n",
       "      <td>0.416675</td>\n",
       "      <td>0.675894</td>\n",
       "      <td>0.634476</td>\n",
       "      <td>0.010628</td>\n",
       "      <td>0.177647</td>\n",
       "      <td>0.159310</td>\n",
       "      <td>165.922</td>\n",
       "      <td>0.576661</td>\n",
       "    </tr>\n",
       "    <tr>\n",
       "      <th>1</th>\n",
       "      <td>3</td>\n",
       "      <td>0.374408</td>\n",
       "      <td>0.528643</td>\n",
       "      <td>0.817461</td>\n",
       "      <td>0.001851</td>\n",
       "      <td>0.105880</td>\n",
       "      <td>0.461818</td>\n",
       "      <td>126.957</td>\n",
       "      <td>0.269240</td>\n",
       "    </tr>\n",
       "    <tr>\n",
       "      <th>2</th>\n",
       "      <td>5</td>\n",
       "      <td>0.043567</td>\n",
       "      <td>0.745566</td>\n",
       "      <td>0.701470</td>\n",
       "      <td>0.000697</td>\n",
       "      <td>0.373143</td>\n",
       "      <td>0.124595</td>\n",
       "      <td>100.260</td>\n",
       "      <td>0.621661</td>\n",
       "    </tr>\n",
       "    <tr>\n",
       "      <th>3</th>\n",
       "      <td>10</td>\n",
       "      <td>0.951670</td>\n",
       "      <td>0.658179</td>\n",
       "      <td>0.924525</td>\n",
       "      <td>0.965427</td>\n",
       "      <td>0.115474</td>\n",
       "      <td>0.032985</td>\n",
       "      <td>111.562</td>\n",
       "      <td>0.963590</td>\n",
       "    </tr>\n",
       "    <tr>\n",
       "      <th>4</th>\n",
       "      <td>134</td>\n",
       "      <td>0.452217</td>\n",
       "      <td>0.513238</td>\n",
       "      <td>0.560410</td>\n",
       "      <td>0.019443</td>\n",
       "      <td>0.096567</td>\n",
       "      <td>0.525519</td>\n",
       "      <td>114.290</td>\n",
       "      <td>0.894072</td>\n",
       "    </tr>\n",
       "  </tbody>\n",
       "</table>\n",
       "</div>"
      ],
      "text/plain": [
       "   track_id  acousticness  danceability    energy  instrumentalness  liveness  \\\n",
       "0         2      0.416675      0.675894  0.634476          0.010628  0.177647   \n",
       "1         3      0.374408      0.528643  0.817461          0.001851  0.105880   \n",
       "2         5      0.043567      0.745566  0.701470          0.000697  0.373143   \n",
       "3        10      0.951670      0.658179  0.924525          0.965427  0.115474   \n",
       "4       134      0.452217      0.513238  0.560410          0.019443  0.096567   \n",
       "\n",
       "   speechiness    tempo   valence  \n",
       "0     0.159310  165.922  0.576661  \n",
       "1     0.461818  126.957  0.269240  \n",
       "2     0.124595  100.260  0.621661  \n",
       "3     0.032985  111.562  0.963590  \n",
       "4     0.525519  114.290  0.894072  "
      ]
     },
     "execution_count": 4,
     "metadata": {},
     "output_type": "execute_result"
    }
   ],
   "source": [
    "echonest_metrics.head()"
   ]
  },
  {
   "cell_type": "code",
   "execution_count": 5,
   "metadata": {},
   "outputs": [],
   "source": [
    "echo_tracks = pd.merge(left = track[['track_id', 'genre_top']], right=echonest_metrics, on='track_id')"
   ]
  },
  {
   "cell_type": "code",
   "execution_count": 6,
   "metadata": {},
   "outputs": [
    {
     "data": {
      "text/html": [
       "<div>\n",
       "<style scoped>\n",
       "    .dataframe tbody tr th:only-of-type {\n",
       "        vertical-align: middle;\n",
       "    }\n",
       "\n",
       "    .dataframe tbody tr th {\n",
       "        vertical-align: top;\n",
       "    }\n",
       "\n",
       "    .dataframe thead th {\n",
       "        text-align: right;\n",
       "    }\n",
       "</style>\n",
       "<table border=\"1\" class=\"dataframe\">\n",
       "  <thead>\n",
       "    <tr style=\"text-align: right;\">\n",
       "      <th></th>\n",
       "      <th>track_id</th>\n",
       "      <th>genre_top</th>\n",
       "      <th>acousticness</th>\n",
       "      <th>danceability</th>\n",
       "      <th>energy</th>\n",
       "      <th>instrumentalness</th>\n",
       "      <th>liveness</th>\n",
       "      <th>speechiness</th>\n",
       "      <th>tempo</th>\n",
       "      <th>valence</th>\n",
       "    </tr>\n",
       "  </thead>\n",
       "  <tbody>\n",
       "    <tr>\n",
       "      <th>0</th>\n",
       "      <td>153</td>\n",
       "      <td>Rock</td>\n",
       "      <td>0.988306</td>\n",
       "      <td>0.255661</td>\n",
       "      <td>0.979774</td>\n",
       "      <td>0.973006</td>\n",
       "      <td>0.121342</td>\n",
       "      <td>0.051740</td>\n",
       "      <td>90.241</td>\n",
       "      <td>0.034018</td>\n",
       "    </tr>\n",
       "    <tr>\n",
       "      <th>1</th>\n",
       "      <td>154</td>\n",
       "      <td>Rock</td>\n",
       "      <td>0.970135</td>\n",
       "      <td>0.352946</td>\n",
       "      <td>0.023852</td>\n",
       "      <td>0.957113</td>\n",
       "      <td>0.113261</td>\n",
       "      <td>0.032177</td>\n",
       "      <td>53.758</td>\n",
       "      <td>0.035632</td>\n",
       "    </tr>\n",
       "    <tr>\n",
       "      <th>2</th>\n",
       "      <td>155</td>\n",
       "      <td>Rock</td>\n",
       "      <td>0.981657</td>\n",
       "      <td>0.142249</td>\n",
       "      <td>0.912122</td>\n",
       "      <td>0.967294</td>\n",
       "      <td>0.363510</td>\n",
       "      <td>0.087527</td>\n",
       "      <td>91.912</td>\n",
       "      <td>0.034325</td>\n",
       "    </tr>\n",
       "    <tr>\n",
       "      <th>3</th>\n",
       "      <td>169</td>\n",
       "      <td>Rock</td>\n",
       "      <td>0.989141</td>\n",
       "      <td>0.225978</td>\n",
       "      <td>0.722835</td>\n",
       "      <td>0.263076</td>\n",
       "      <td>0.092371</td>\n",
       "      <td>0.053406</td>\n",
       "      <td>94.322</td>\n",
       "      <td>0.028347</td>\n",
       "    </tr>\n",
       "    <tr>\n",
       "      <th>4</th>\n",
       "      <td>170</td>\n",
       "      <td>Rock</td>\n",
       "      <td>0.886660</td>\n",
       "      <td>0.298518</td>\n",
       "      <td>0.744333</td>\n",
       "      <td>0.920950</td>\n",
       "      <td>0.139587</td>\n",
       "      <td>0.088781</td>\n",
       "      <td>97.880</td>\n",
       "      <td>0.073548</td>\n",
       "    </tr>\n",
       "  </tbody>\n",
       "</table>\n",
       "</div>"
      ],
      "text/plain": [
       "   track_id genre_top  acousticness  danceability    energy  instrumentalness  \\\n",
       "0       153      Rock      0.988306      0.255661  0.979774          0.973006   \n",
       "1       154      Rock      0.970135      0.352946  0.023852          0.957113   \n",
       "2       155      Rock      0.981657      0.142249  0.912122          0.967294   \n",
       "3       169      Rock      0.989141      0.225978  0.722835          0.263076   \n",
       "4       170      Rock      0.886660      0.298518  0.744333          0.920950   \n",
       "\n",
       "   liveness  speechiness   tempo   valence  \n",
       "0  0.121342     0.051740  90.241  0.034018  \n",
       "1  0.113261     0.032177  53.758  0.035632  \n",
       "2  0.363510     0.087527  91.912  0.034325  \n",
       "3  0.092371     0.053406  94.322  0.028347  \n",
       "4  0.139587     0.088781  97.880  0.073548  "
      ]
     },
     "execution_count": 6,
     "metadata": {},
     "output_type": "execute_result"
    }
   ],
   "source": [
    "echo_tracks.head()"
   ]
  },
  {
   "cell_type": "code",
   "execution_count": 7,
   "metadata": {},
   "outputs": [
    {
     "data": {
      "text/html": [
       "<div>\n",
       "<style scoped>\n",
       "    .dataframe tbody tr th:only-of-type {\n",
       "        vertical-align: middle;\n",
       "    }\n",
       "\n",
       "    .dataframe tbody tr th {\n",
       "        vertical-align: top;\n",
       "    }\n",
       "\n",
       "    .dataframe thead th {\n",
       "        text-align: right;\n",
       "    }\n",
       "</style>\n",
       "<table border=\"1\" class=\"dataframe\">\n",
       "  <thead>\n",
       "    <tr style=\"text-align: right;\">\n",
       "      <th></th>\n",
       "      <th>track_id</th>\n",
       "      <th>acousticness</th>\n",
       "      <th>danceability</th>\n",
       "      <th>energy</th>\n",
       "      <th>instrumentalness</th>\n",
       "      <th>liveness</th>\n",
       "      <th>speechiness</th>\n",
       "      <th>tempo</th>\n",
       "      <th>valence</th>\n",
       "    </tr>\n",
       "  </thead>\n",
       "  <tbody>\n",
       "    <tr>\n",
       "      <th>count</th>\n",
       "      <td>4802.000000</td>\n",
       "      <td>4.802000e+03</td>\n",
       "      <td>4802.000000</td>\n",
       "      <td>4802.000000</td>\n",
       "      <td>4802.000000</td>\n",
       "      <td>4802.000000</td>\n",
       "      <td>4802.000000</td>\n",
       "      <td>4802.000000</td>\n",
       "      <td>4802.000000</td>\n",
       "    </tr>\n",
       "    <tr>\n",
       "      <th>mean</th>\n",
       "      <td>30164.871720</td>\n",
       "      <td>4.870600e-01</td>\n",
       "      <td>0.436556</td>\n",
       "      <td>0.625126</td>\n",
       "      <td>0.604096</td>\n",
       "      <td>0.187997</td>\n",
       "      <td>0.104877</td>\n",
       "      <td>126.687944</td>\n",
       "      <td>0.453413</td>\n",
       "    </tr>\n",
       "    <tr>\n",
       "      <th>std</th>\n",
       "      <td>28592.013796</td>\n",
       "      <td>3.681396e-01</td>\n",
       "      <td>0.183502</td>\n",
       "      <td>0.244051</td>\n",
       "      <td>0.376487</td>\n",
       "      <td>0.150562</td>\n",
       "      <td>0.145934</td>\n",
       "      <td>34.002473</td>\n",
       "      <td>0.266632</td>\n",
       "    </tr>\n",
       "    <tr>\n",
       "      <th>min</th>\n",
       "      <td>2.000000</td>\n",
       "      <td>9.491000e-07</td>\n",
       "      <td>0.051307</td>\n",
       "      <td>0.000279</td>\n",
       "      <td>0.000000</td>\n",
       "      <td>0.025297</td>\n",
       "      <td>0.023234</td>\n",
       "      <td>29.093000</td>\n",
       "      <td>0.014392</td>\n",
       "    </tr>\n",
       "    <tr>\n",
       "      <th>25%</th>\n",
       "      <td>7494.250000</td>\n",
       "      <td>8.351236e-02</td>\n",
       "      <td>0.296047</td>\n",
       "      <td>0.450757</td>\n",
       "      <td>0.164972</td>\n",
       "      <td>0.104052</td>\n",
       "      <td>0.036897</td>\n",
       "      <td>98.000750</td>\n",
       "      <td>0.224617</td>\n",
       "    </tr>\n",
       "    <tr>\n",
       "      <th>50%</th>\n",
       "      <td>20723.500000</td>\n",
       "      <td>5.156888e-01</td>\n",
       "      <td>0.419447</td>\n",
       "      <td>0.648374</td>\n",
       "      <td>0.808752</td>\n",
       "      <td>0.123080</td>\n",
       "      <td>0.049594</td>\n",
       "      <td>124.625500</td>\n",
       "      <td>0.446240</td>\n",
       "    </tr>\n",
       "    <tr>\n",
       "      <th>75%</th>\n",
       "      <td>44240.750000</td>\n",
       "      <td>8.555765e-01</td>\n",
       "      <td>0.565339</td>\n",
       "      <td>0.837016</td>\n",
       "      <td>0.915472</td>\n",
       "      <td>0.215151</td>\n",
       "      <td>0.088290</td>\n",
       "      <td>151.450000</td>\n",
       "      <td>0.666914</td>\n",
       "    </tr>\n",
       "    <tr>\n",
       "      <th>max</th>\n",
       "      <td>124722.000000</td>\n",
       "      <td>9.957965e-01</td>\n",
       "      <td>0.961871</td>\n",
       "      <td>0.999768</td>\n",
       "      <td>0.993134</td>\n",
       "      <td>0.971392</td>\n",
       "      <td>0.966177</td>\n",
       "      <td>250.059000</td>\n",
       "      <td>0.983649</td>\n",
       "    </tr>\n",
       "  </tbody>\n",
       "</table>\n",
       "</div>"
      ],
      "text/plain": [
       "            track_id  acousticness  danceability       energy  \\\n",
       "count    4802.000000  4.802000e+03   4802.000000  4802.000000   \n",
       "mean    30164.871720  4.870600e-01      0.436556     0.625126   \n",
       "std     28592.013796  3.681396e-01      0.183502     0.244051   \n",
       "min         2.000000  9.491000e-07      0.051307     0.000279   \n",
       "25%      7494.250000  8.351236e-02      0.296047     0.450757   \n",
       "50%     20723.500000  5.156888e-01      0.419447     0.648374   \n",
       "75%     44240.750000  8.555765e-01      0.565339     0.837016   \n",
       "max    124722.000000  9.957965e-01      0.961871     0.999768   \n",
       "\n",
       "       instrumentalness     liveness  speechiness        tempo      valence  \n",
       "count       4802.000000  4802.000000  4802.000000  4802.000000  4802.000000  \n",
       "mean           0.604096     0.187997     0.104877   126.687944     0.453413  \n",
       "std            0.376487     0.150562     0.145934    34.002473     0.266632  \n",
       "min            0.000000     0.025297     0.023234    29.093000     0.014392  \n",
       "25%            0.164972     0.104052     0.036897    98.000750     0.224617  \n",
       "50%            0.808752     0.123080     0.049594   124.625500     0.446240  \n",
       "75%            0.915472     0.215151     0.088290   151.450000     0.666914  \n",
       "max            0.993134     0.971392     0.966177   250.059000     0.983649  "
      ]
     },
     "execution_count": 7,
     "metadata": {},
     "output_type": "execute_result"
    }
   ],
   "source": [
    "echo_tracks.describe()"
   ]
  },
  {
   "cell_type": "code",
   "execution_count": 8,
   "metadata": {},
   "outputs": [
    {
     "name": "stdout",
     "output_type": "stream",
     "text": [
      "<class 'pandas.core.frame.DataFrame'>\n",
      "Int64Index: 4802 entries, 0 to 4801\n",
      "Data columns (total 10 columns):\n",
      " #   Column            Non-Null Count  Dtype  \n",
      "---  ------            --------------  -----  \n",
      " 0   track_id          4802 non-null   int64  \n",
      " 1   genre_top         4802 non-null   object \n",
      " 2   acousticness      4802 non-null   float64\n",
      " 3   danceability      4802 non-null   float64\n",
      " 4   energy            4802 non-null   float64\n",
      " 5   instrumentalness  4802 non-null   float64\n",
      " 6   liveness          4802 non-null   float64\n",
      " 7   speechiness       4802 non-null   float64\n",
      " 8   tempo             4802 non-null   float64\n",
      " 9   valence           4802 non-null   float64\n",
      "dtypes: float64(8), int64(1), object(1)\n",
      "memory usage: 412.7+ KB\n"
     ]
    }
   ],
   "source": [
    "echo_tracks.info()"
   ]
  },
  {
   "cell_type": "markdown",
   "metadata": {},
   "source": [
    "## Task-2: Pairwise relationships between continuous variables"
   ]
  },
  {
   "cell_type": "code",
   "execution_count": 9,
   "metadata": {},
   "outputs": [
    {
     "data": {
      "text/html": [
       "<style  type=\"text/css\" >\n",
       "#T_47ccab1a_388c_11eb_a0a2_80e82c1c3528row0_col0,#T_47ccab1a_388c_11eb_a0a2_80e82c1c3528row1_col1,#T_47ccab1a_388c_11eb_a0a2_80e82c1c3528row2_col2,#T_47ccab1a_388c_11eb_a0a2_80e82c1c3528row3_col3,#T_47ccab1a_388c_11eb_a0a2_80e82c1c3528row4_col4,#T_47ccab1a_388c_11eb_a0a2_80e82c1c3528row5_col5,#T_47ccab1a_388c_11eb_a0a2_80e82c1c3528row6_col6,#T_47ccab1a_388c_11eb_a0a2_80e82c1c3528row7_col7,#T_47ccab1a_388c_11eb_a0a2_80e82c1c3528row8_col8{\n",
       "            background-color:  #023858;\n",
       "            color:  #f1f1f1;\n",
       "        }#T_47ccab1a_388c_11eb_a0a2_80e82c1c3528row0_col1,#T_47ccab1a_388c_11eb_a0a2_80e82c1c3528row1_col0,#T_47ccab1a_388c_11eb_a0a2_80e82c1c3528row1_col3,#T_47ccab1a_388c_11eb_a0a2_80e82c1c3528row2_col5,#T_47ccab1a_388c_11eb_a0a2_80e82c1c3528row2_col7,#T_47ccab1a_388c_11eb_a0a2_80e82c1c3528row4_col2,#T_47ccab1a_388c_11eb_a0a2_80e82c1c3528row4_col6,#T_47ccab1a_388c_11eb_a0a2_80e82c1c3528row4_col8,#T_47ccab1a_388c_11eb_a0a2_80e82c1c3528row6_col4{\n",
       "            background-color:  #fff7fb;\n",
       "            color:  #000000;\n",
       "        }#T_47ccab1a_388c_11eb_a0a2_80e82c1c3528row0_col2{\n",
       "            background-color:  #d2d2e7;\n",
       "            color:  #000000;\n",
       "        }#T_47ccab1a_388c_11eb_a0a2_80e82c1c3528row0_col3{\n",
       "            background-color:  #b5c4df;\n",
       "            color:  #000000;\n",
       "        }#T_47ccab1a_388c_11eb_a0a2_80e82c1c3528row0_col4{\n",
       "            background-color:  #f5eef6;\n",
       "            color:  #000000;\n",
       "        }#T_47ccab1a_388c_11eb_a0a2_80e82c1c3528row0_col5{\n",
       "            background-color:  #e9e5f1;\n",
       "            color:  #000000;\n",
       "        }#T_47ccab1a_388c_11eb_a0a2_80e82c1c3528row0_col6,#T_47ccab1a_388c_11eb_a0a2_80e82c1c3528row8_col3{\n",
       "            background-color:  #d1d2e6;\n",
       "            color:  #000000;\n",
       "        }#T_47ccab1a_388c_11eb_a0a2_80e82c1c3528row0_col7,#T_47ccab1a_388c_11eb_a0a2_80e82c1c3528row1_col7{\n",
       "            background-color:  #e1dfed;\n",
       "            color:  #000000;\n",
       "        }#T_47ccab1a_388c_11eb_a0a2_80e82c1c3528row0_col8,#T_47ccab1a_388c_11eb_a0a2_80e82c1c3528row3_col6{\n",
       "            background-color:  #dedcec;\n",
       "            color:  #000000;\n",
       "        }#T_47ccab1a_388c_11eb_a0a2_80e82c1c3528row1_col2{\n",
       "            background-color:  #e0dded;\n",
       "            color:  #000000;\n",
       "        }#T_47ccab1a_388c_11eb_a0a2_80e82c1c3528row1_col4,#T_47ccab1a_388c_11eb_a0a2_80e82c1c3528row4_col1{\n",
       "            background-color:  #97b7d7;\n",
       "            color:  #000000;\n",
       "        }#T_47ccab1a_388c_11eb_a0a2_80e82c1c3528row1_col5,#T_47ccab1a_388c_11eb_a0a2_80e82c1c3528row2_col4{\n",
       "            background-color:  #f3edf5;\n",
       "            color:  #000000;\n",
       "        }#T_47ccab1a_388c_11eb_a0a2_80e82c1c3528row1_col6,#T_47ccab1a_388c_11eb_a0a2_80e82c1c3528row6_col1{\n",
       "            background-color:  #b8c6e0;\n",
       "            color:  #000000;\n",
       "        }#T_47ccab1a_388c_11eb_a0a2_80e82c1c3528row1_col8{\n",
       "            background-color:  #e2dfee;\n",
       "            color:  #000000;\n",
       "        }#T_47ccab1a_388c_11eb_a0a2_80e82c1c3528row2_col0,#T_47ccab1a_388c_11eb_a0a2_80e82c1c3528row5_col0,#T_47ccab1a_388c_11eb_a0a2_80e82c1c3528row5_col3{\n",
       "            background-color:  #bdc8e1;\n",
       "            color:  #000000;\n",
       "        }#T_47ccab1a_388c_11eb_a0a2_80e82c1c3528row2_col1,#T_47ccab1a_388c_11eb_a0a2_80e82c1c3528row6_col0,#T_47ccab1a_388c_11eb_a0a2_80e82c1c3528row7_col0,#T_47ccab1a_388c_11eb_a0a2_80e82c1c3528row7_col1{\n",
       "            background-color:  #d0d1e6;\n",
       "            color:  #000000;\n",
       "        }#T_47ccab1a_388c_11eb_a0a2_80e82c1c3528row2_col3{\n",
       "            background-color:  #fbf3f9;\n",
       "            color:  #000000;\n",
       "        }#T_47ccab1a_388c_11eb_a0a2_80e82c1c3528row2_col6{\n",
       "            background-color:  #80aed2;\n",
       "            color:  #000000;\n",
       "        }#T_47ccab1a_388c_11eb_a0a2_80e82c1c3528row2_col8{\n",
       "            background-color:  #529bc7;\n",
       "            color:  #000000;\n",
       "        }#T_47ccab1a_388c_11eb_a0a2_80e82c1c3528row3_col0,#T_47ccab1a_388c_11eb_a0a2_80e82c1c3528row7_col3{\n",
       "            background-color:  #a7bddb;\n",
       "            color:  #000000;\n",
       "        }#T_47ccab1a_388c_11eb_a0a2_80e82c1c3528row3_col1{\n",
       "            background-color:  #f5eff6;\n",
       "            color:  #000000;\n",
       "        }#T_47ccab1a_388c_11eb_a0a2_80e82c1c3528row3_col2,#T_47ccab1a_388c_11eb_a0a2_80e82c1c3528row7_col2{\n",
       "            background-color:  #fef6fa;\n",
       "            color:  #000000;\n",
       "        }#T_47ccab1a_388c_11eb_a0a2_80e82c1c3528row3_col4{\n",
       "            background-color:  #c4cbe3;\n",
       "            color:  #000000;\n",
       "        }#T_47ccab1a_388c_11eb_a0a2_80e82c1c3528row3_col5,#T_47ccab1a_388c_11eb_a0a2_80e82c1c3528row5_col7{\n",
       "            background-color:  #dcdaeb;\n",
       "            color:  #000000;\n",
       "        }#T_47ccab1a_388c_11eb_a0a2_80e82c1c3528row3_col7{\n",
       "            background-color:  #adc1dd;\n",
       "            color:  #000000;\n",
       "        }#T_47ccab1a_388c_11eb_a0a2_80e82c1c3528row3_col8,#T_47ccab1a_388c_11eb_a0a2_80e82c1c3528row4_col7{\n",
       "            background-color:  #d9d8ea;\n",
       "            color:  #000000;\n",
       "        }#T_47ccab1a_388c_11eb_a0a2_80e82c1c3528row4_col0{\n",
       "            background-color:  #f4eef6;\n",
       "            color:  #000000;\n",
       "        }#T_47ccab1a_388c_11eb_a0a2_80e82c1c3528row4_col3{\n",
       "            background-color:  #d2d3e7;\n",
       "            color:  #000000;\n",
       "        }#T_47ccab1a_388c_11eb_a0a2_80e82c1c3528row4_col5{\n",
       "            background-color:  #fdf5fa;\n",
       "            color:  #000000;\n",
       "        }#T_47ccab1a_388c_11eb_a0a2_80e82c1c3528row5_col1{\n",
       "            background-color:  #ced0e6;\n",
       "            color:  #000000;\n",
       "        }#T_47ccab1a_388c_11eb_a0a2_80e82c1c3528row5_col2{\n",
       "            background-color:  #ede8f3;\n",
       "            color:  #000000;\n",
       "        }#T_47ccab1a_388c_11eb_a0a2_80e82c1c3528row5_col4,#T_47ccab1a_388c_11eb_a0a2_80e82c1c3528row6_col7{\n",
       "            background-color:  #dbdaeb;\n",
       "            color:  #000000;\n",
       "        }#T_47ccab1a_388c_11eb_a0a2_80e82c1c3528row5_col6{\n",
       "            background-color:  #c0c9e2;\n",
       "            color:  #000000;\n",
       "        }#T_47ccab1a_388c_11eb_a0a2_80e82c1c3528row5_col8{\n",
       "            background-color:  #e8e4f0;\n",
       "            color:  #000000;\n",
       "        }#T_47ccab1a_388c_11eb_a0a2_80e82c1c3528row6_col2{\n",
       "            background-color:  #93b5d6;\n",
       "            color:  #000000;\n",
       "        }#T_47ccab1a_388c_11eb_a0a2_80e82c1c3528row6_col3,#T_47ccab1a_388c_11eb_a0a2_80e82c1c3528row6_col5{\n",
       "            background-color:  #eae6f1;\n",
       "            color:  #000000;\n",
       "        }#T_47ccab1a_388c_11eb_a0a2_80e82c1c3528row6_col8{\n",
       "            background-color:  #bfc9e1;\n",
       "            color:  #000000;\n",
       "        }#T_47ccab1a_388c_11eb_a0a2_80e82c1c3528row7_col4{\n",
       "            background-color:  #c5cce3;\n",
       "            color:  #000000;\n",
       "        }#T_47ccab1a_388c_11eb_a0a2_80e82c1c3528row7_col5{\n",
       "            background-color:  #f0eaf4;\n",
       "            color:  #000000;\n",
       "        }#T_47ccab1a_388c_11eb_a0a2_80e82c1c3528row7_col6{\n",
       "            background-color:  #c8cde4;\n",
       "            color:  #000000;\n",
       "        }#T_47ccab1a_388c_11eb_a0a2_80e82c1c3528row7_col8{\n",
       "            background-color:  #d6d6e9;\n",
       "            color:  #000000;\n",
       "        }#T_47ccab1a_388c_11eb_a0a2_80e82c1c3528row8_col0{\n",
       "            background-color:  #c6cce3;\n",
       "            color:  #000000;\n",
       "        }#T_47ccab1a_388c_11eb_a0a2_80e82c1c3528row8_col1{\n",
       "            background-color:  #cdd0e5;\n",
       "            color:  #000000;\n",
       "        }#T_47ccab1a_388c_11eb_a0a2_80e82c1c3528row8_col2{\n",
       "            background-color:  #4c99c5;\n",
       "            color:  #000000;\n",
       "        }#T_47ccab1a_388c_11eb_a0a2_80e82c1c3528row8_col4{\n",
       "            background-color:  #efe9f3;\n",
       "            color:  #000000;\n",
       "        }#T_47ccab1a_388c_11eb_a0a2_80e82c1c3528row8_col5{\n",
       "            background-color:  #f7f0f7;\n",
       "            color:  #000000;\n",
       "        }#T_47ccab1a_388c_11eb_a0a2_80e82c1c3528row8_col6{\n",
       "            background-color:  #a5bddb;\n",
       "            color:  #000000;\n",
       "        }#T_47ccab1a_388c_11eb_a0a2_80e82c1c3528row8_col7{\n",
       "            background-color:  #d3d4e7;\n",
       "            color:  #000000;\n",
       "        }</style><table id=\"T_47ccab1a_388c_11eb_a0a2_80e82c1c3528\" ><thead>    <tr>        <th class=\"blank level0\" ></th>        <th class=\"col_heading level0 col0\" >track_id</th>        <th class=\"col_heading level0 col1\" >acousticness</th>        <th class=\"col_heading level0 col2\" >danceability</th>        <th class=\"col_heading level0 col3\" >energy</th>        <th class=\"col_heading level0 col4\" >instrumentalness</th>        <th class=\"col_heading level0 col5\" >liveness</th>        <th class=\"col_heading level0 col6\" >speechiness</th>        <th class=\"col_heading level0 col7\" >tempo</th>        <th class=\"col_heading level0 col8\" >valence</th>    </tr></thead><tbody>\n",
       "                <tr>\n",
       "                        <th id=\"T_47ccab1a_388c_11eb_a0a2_80e82c1c3528level0_row0\" class=\"row_heading level0 row0\" >track_id</th>\n",
       "                        <td id=\"T_47ccab1a_388c_11eb_a0a2_80e82c1c3528row0_col0\" class=\"data row0 col0\" >1.000000</td>\n",
       "                        <td id=\"T_47ccab1a_388c_11eb_a0a2_80e82c1c3528row0_col1\" class=\"data row0 col1\" >-0.372282</td>\n",
       "                        <td id=\"T_47ccab1a_388c_11eb_a0a2_80e82c1c3528row0_col2\" class=\"data row0 col2\" >0.049454</td>\n",
       "                        <td id=\"T_47ccab1a_388c_11eb_a0a2_80e82c1c3528row0_col3\" class=\"data row0 col3\" >0.140703</td>\n",
       "                        <td id=\"T_47ccab1a_388c_11eb_a0a2_80e82c1c3528row0_col4\" class=\"data row0 col4\" >-0.275623</td>\n",
       "                        <td id=\"T_47ccab1a_388c_11eb_a0a2_80e82c1c3528row0_col5\" class=\"data row0 col5\" >0.048231</td>\n",
       "                        <td id=\"T_47ccab1a_388c_11eb_a0a2_80e82c1c3528row0_col6\" class=\"data row0 col6\" >-0.026995</td>\n",
       "                        <td id=\"T_47ccab1a_388c_11eb_a0a2_80e82c1c3528row0_col7\" class=\"data row0 col7\" >-0.025392</td>\n",
       "                        <td id=\"T_47ccab1a_388c_11eb_a0a2_80e82c1c3528row0_col8\" class=\"data row0 col8\" >0.010070</td>\n",
       "            </tr>\n",
       "            <tr>\n",
       "                        <th id=\"T_47ccab1a_388c_11eb_a0a2_80e82c1c3528level0_row1\" class=\"row_heading level0 row1\" >acousticness</th>\n",
       "                        <td id=\"T_47ccab1a_388c_11eb_a0a2_80e82c1c3528row1_col0\" class=\"data row1 col0\" >-0.372282</td>\n",
       "                        <td id=\"T_47ccab1a_388c_11eb_a0a2_80e82c1c3528row1_col1\" class=\"data row1 col1\" >1.000000</td>\n",
       "                        <td id=\"T_47ccab1a_388c_11eb_a0a2_80e82c1c3528row1_col2\" class=\"data row1 col2\" >-0.028954</td>\n",
       "                        <td id=\"T_47ccab1a_388c_11eb_a0a2_80e82c1c3528row1_col3\" class=\"data row1 col3\" >-0.281619</td>\n",
       "                        <td id=\"T_47ccab1a_388c_11eb_a0a2_80e82c1c3528row1_col4\" class=\"data row1 col4\" >0.194780</td>\n",
       "                        <td id=\"T_47ccab1a_388c_11eb_a0a2_80e82c1c3528row1_col5\" class=\"data row1 col5\" >-0.019991</td>\n",
       "                        <td id=\"T_47ccab1a_388c_11eb_a0a2_80e82c1c3528row1_col6\" class=\"data row1 col6\" >0.072204</td>\n",
       "                        <td id=\"T_47ccab1a_388c_11eb_a0a2_80e82c1c3528row1_col7\" class=\"data row1 col7\" >-0.026310</td>\n",
       "                        <td id=\"T_47ccab1a_388c_11eb_a0a2_80e82c1c3528row1_col8\" class=\"data row1 col8\" >-0.013841</td>\n",
       "            </tr>\n",
       "            <tr>\n",
       "                        <th id=\"T_47ccab1a_388c_11eb_a0a2_80e82c1c3528level0_row2\" class=\"row_heading level0 row2\" >danceability</th>\n",
       "                        <td id=\"T_47ccab1a_388c_11eb_a0a2_80e82c1c3528row2_col0\" class=\"data row2 col0\" >0.049454</td>\n",
       "                        <td id=\"T_47ccab1a_388c_11eb_a0a2_80e82c1c3528row2_col1\" class=\"data row2 col1\" >-0.028954</td>\n",
       "                        <td id=\"T_47ccab1a_388c_11eb_a0a2_80e82c1c3528row2_col2\" class=\"data row2 col2\" >1.000000</td>\n",
       "                        <td id=\"T_47ccab1a_388c_11eb_a0a2_80e82c1c3528row2_col3\" class=\"data row2 col3\" >-0.242032</td>\n",
       "                        <td id=\"T_47ccab1a_388c_11eb_a0a2_80e82c1c3528row2_col4\" class=\"data row2 col4\" >-0.255217</td>\n",
       "                        <td id=\"T_47ccab1a_388c_11eb_a0a2_80e82c1c3528row2_col5\" class=\"data row2 col5\" >-0.106584</td>\n",
       "                        <td id=\"T_47ccab1a_388c_11eb_a0a2_80e82c1c3528row2_col6\" class=\"data row2 col6\" >0.276206</td>\n",
       "                        <td id=\"T_47ccab1a_388c_11eb_a0a2_80e82c1c3528row2_col7\" class=\"data row2 col7\" >-0.242089</td>\n",
       "                        <td id=\"T_47ccab1a_388c_11eb_a0a2_80e82c1c3528row2_col8\" class=\"data row2 col8\" >0.473165</td>\n",
       "            </tr>\n",
       "            <tr>\n",
       "                        <th id=\"T_47ccab1a_388c_11eb_a0a2_80e82c1c3528level0_row3\" class=\"row_heading level0 row3\" >energy</th>\n",
       "                        <td id=\"T_47ccab1a_388c_11eb_a0a2_80e82c1c3528row3_col0\" class=\"data row3 col0\" >0.140703</td>\n",
       "                        <td id=\"T_47ccab1a_388c_11eb_a0a2_80e82c1c3528row3_col1\" class=\"data row3 col1\" >-0.281619</td>\n",
       "                        <td id=\"T_47ccab1a_388c_11eb_a0a2_80e82c1c3528row3_col2\" class=\"data row3 col2\" >-0.242032</td>\n",
       "                        <td id=\"T_47ccab1a_388c_11eb_a0a2_80e82c1c3528row3_col3\" class=\"data row3 col3\" >1.000000</td>\n",
       "                        <td id=\"T_47ccab1a_388c_11eb_a0a2_80e82c1c3528row3_col4\" class=\"data row3 col4\" >0.028238</td>\n",
       "                        <td id=\"T_47ccab1a_388c_11eb_a0a2_80e82c1c3528row3_col5\" class=\"data row3 col5\" >0.113331</td>\n",
       "                        <td id=\"T_47ccab1a_388c_11eb_a0a2_80e82c1c3528row3_col6\" class=\"data row3 col6\" >-0.109983</td>\n",
       "                        <td id=\"T_47ccab1a_388c_11eb_a0a2_80e82c1c3528row3_col7\" class=\"data row3 col7\" >0.195227</td>\n",
       "                        <td id=\"T_47ccab1a_388c_11eb_a0a2_80e82c1c3528row3_col8\" class=\"data row3 col8\" >0.038603</td>\n",
       "            </tr>\n",
       "            <tr>\n",
       "                        <th id=\"T_47ccab1a_388c_11eb_a0a2_80e82c1c3528level0_row4\" class=\"row_heading level0 row4\" >instrumentalness</th>\n",
       "                        <td id=\"T_47ccab1a_388c_11eb_a0a2_80e82c1c3528row4_col0\" class=\"data row4 col0\" >-0.275623</td>\n",
       "                        <td id=\"T_47ccab1a_388c_11eb_a0a2_80e82c1c3528row4_col1\" class=\"data row4 col1\" >0.194780</td>\n",
       "                        <td id=\"T_47ccab1a_388c_11eb_a0a2_80e82c1c3528row4_col2\" class=\"data row4 col2\" >-0.255217</td>\n",
       "                        <td id=\"T_47ccab1a_388c_11eb_a0a2_80e82c1c3528row4_col3\" class=\"data row4 col3\" >0.028238</td>\n",
       "                        <td id=\"T_47ccab1a_388c_11eb_a0a2_80e82c1c3528row4_col4\" class=\"data row4 col4\" >1.000000</td>\n",
       "                        <td id=\"T_47ccab1a_388c_11eb_a0a2_80e82c1c3528row4_col5\" class=\"data row4 col5\" >-0.091022</td>\n",
       "                        <td id=\"T_47ccab1a_388c_11eb_a0a2_80e82c1c3528row4_col6\" class=\"data row4 col6\" >-0.366762</td>\n",
       "                        <td id=\"T_47ccab1a_388c_11eb_a0a2_80e82c1c3528row4_col7\" class=\"data row4 col7\" >0.022215</td>\n",
       "                        <td id=\"T_47ccab1a_388c_11eb_a0a2_80e82c1c3528row4_col8\" class=\"data row4 col8\" >-0.219967</td>\n",
       "            </tr>\n",
       "            <tr>\n",
       "                        <th id=\"T_47ccab1a_388c_11eb_a0a2_80e82c1c3528level0_row5\" class=\"row_heading level0 row5\" >liveness</th>\n",
       "                        <td id=\"T_47ccab1a_388c_11eb_a0a2_80e82c1c3528row5_col0\" class=\"data row5 col0\" >0.048231</td>\n",
       "                        <td id=\"T_47ccab1a_388c_11eb_a0a2_80e82c1c3528row5_col1\" class=\"data row5 col1\" >-0.019991</td>\n",
       "                        <td id=\"T_47ccab1a_388c_11eb_a0a2_80e82c1c3528row5_col2\" class=\"data row5 col2\" >-0.106584</td>\n",
       "                        <td id=\"T_47ccab1a_388c_11eb_a0a2_80e82c1c3528row5_col3\" class=\"data row5 col3\" >0.113331</td>\n",
       "                        <td id=\"T_47ccab1a_388c_11eb_a0a2_80e82c1c3528row5_col4\" class=\"data row5 col4\" >-0.091022</td>\n",
       "                        <td id=\"T_47ccab1a_388c_11eb_a0a2_80e82c1c3528row5_col5\" class=\"data row5 col5\" >1.000000</td>\n",
       "                        <td id=\"T_47ccab1a_388c_11eb_a0a2_80e82c1c3528row5_col6\" class=\"data row5 col6\" >0.041173</td>\n",
       "                        <td id=\"T_47ccab1a_388c_11eb_a0a2_80e82c1c3528row5_col7\" class=\"data row5 col7\" >0.002732</td>\n",
       "                        <td id=\"T_47ccab1a_388c_11eb_a0a2_80e82c1c3528row5_col8\" class=\"data row5 col8\" >-0.045093</td>\n",
       "            </tr>\n",
       "            <tr>\n",
       "                        <th id=\"T_47ccab1a_388c_11eb_a0a2_80e82c1c3528level0_row6\" class=\"row_heading level0 row6\" >speechiness</th>\n",
       "                        <td id=\"T_47ccab1a_388c_11eb_a0a2_80e82c1c3528row6_col0\" class=\"data row6 col0\" >-0.026995</td>\n",
       "                        <td id=\"T_47ccab1a_388c_11eb_a0a2_80e82c1c3528row6_col1\" class=\"data row6 col1\" >0.072204</td>\n",
       "                        <td id=\"T_47ccab1a_388c_11eb_a0a2_80e82c1c3528row6_col2\" class=\"data row6 col2\" >0.276206</td>\n",
       "                        <td id=\"T_47ccab1a_388c_11eb_a0a2_80e82c1c3528row6_col3\" class=\"data row6 col3\" >-0.109983</td>\n",
       "                        <td id=\"T_47ccab1a_388c_11eb_a0a2_80e82c1c3528row6_col4\" class=\"data row6 col4\" >-0.366762</td>\n",
       "                        <td id=\"T_47ccab1a_388c_11eb_a0a2_80e82c1c3528row6_col5\" class=\"data row6 col5\" >0.041173</td>\n",
       "                        <td id=\"T_47ccab1a_388c_11eb_a0a2_80e82c1c3528row6_col6\" class=\"data row6 col6\" >1.000000</td>\n",
       "                        <td id=\"T_47ccab1a_388c_11eb_a0a2_80e82c1c3528row6_col7\" class=\"data row6 col7\" >0.008241</td>\n",
       "                        <td id=\"T_47ccab1a_388c_11eb_a0a2_80e82c1c3528row6_col8\" class=\"data row6 col8\" >0.149894</td>\n",
       "            </tr>\n",
       "            <tr>\n",
       "                        <th id=\"T_47ccab1a_388c_11eb_a0a2_80e82c1c3528level0_row7\" class=\"row_heading level0 row7\" >tempo</th>\n",
       "                        <td id=\"T_47ccab1a_388c_11eb_a0a2_80e82c1c3528row7_col0\" class=\"data row7 col0\" >-0.025392</td>\n",
       "                        <td id=\"T_47ccab1a_388c_11eb_a0a2_80e82c1c3528row7_col1\" class=\"data row7 col1\" >-0.026310</td>\n",
       "                        <td id=\"T_47ccab1a_388c_11eb_a0a2_80e82c1c3528row7_col2\" class=\"data row7 col2\" >-0.242089</td>\n",
       "                        <td id=\"T_47ccab1a_388c_11eb_a0a2_80e82c1c3528row7_col3\" class=\"data row7 col3\" >0.195227</td>\n",
       "                        <td id=\"T_47ccab1a_388c_11eb_a0a2_80e82c1c3528row7_col4\" class=\"data row7 col4\" >0.022215</td>\n",
       "                        <td id=\"T_47ccab1a_388c_11eb_a0a2_80e82c1c3528row7_col5\" class=\"data row7 col5\" >0.002732</td>\n",
       "                        <td id=\"T_47ccab1a_388c_11eb_a0a2_80e82c1c3528row7_col6\" class=\"data row7 col6\" >0.008241</td>\n",
       "                        <td id=\"T_47ccab1a_388c_11eb_a0a2_80e82c1c3528row7_col7\" class=\"data row7 col7\" >1.000000</td>\n",
       "                        <td id=\"T_47ccab1a_388c_11eb_a0a2_80e82c1c3528row7_col8\" class=\"data row7 col8\" >0.052221</td>\n",
       "            </tr>\n",
       "            <tr>\n",
       "                        <th id=\"T_47ccab1a_388c_11eb_a0a2_80e82c1c3528level0_row8\" class=\"row_heading level0 row8\" >valence</th>\n",
       "                        <td id=\"T_47ccab1a_388c_11eb_a0a2_80e82c1c3528row8_col0\" class=\"data row8 col0\" >0.010070</td>\n",
       "                        <td id=\"T_47ccab1a_388c_11eb_a0a2_80e82c1c3528row8_col1\" class=\"data row8 col1\" >-0.013841</td>\n",
       "                        <td id=\"T_47ccab1a_388c_11eb_a0a2_80e82c1c3528row8_col2\" class=\"data row8 col2\" >0.473165</td>\n",
       "                        <td id=\"T_47ccab1a_388c_11eb_a0a2_80e82c1c3528row8_col3\" class=\"data row8 col3\" >0.038603</td>\n",
       "                        <td id=\"T_47ccab1a_388c_11eb_a0a2_80e82c1c3528row8_col4\" class=\"data row8 col4\" >-0.219967</td>\n",
       "                        <td id=\"T_47ccab1a_388c_11eb_a0a2_80e82c1c3528row8_col5\" class=\"data row8 col5\" >-0.045093</td>\n",
       "                        <td id=\"T_47ccab1a_388c_11eb_a0a2_80e82c1c3528row8_col6\" class=\"data row8 col6\" >0.149894</td>\n",
       "                        <td id=\"T_47ccab1a_388c_11eb_a0a2_80e82c1c3528row8_col7\" class=\"data row8 col7\" >0.052221</td>\n",
       "                        <td id=\"T_47ccab1a_388c_11eb_a0a2_80e82c1c3528row8_col8\" class=\"data row8 col8\" >1.000000</td>\n",
       "            </tr>\n",
       "    </tbody></table>"
      ],
      "text/plain": [
       "<pandas.io.formats.style.Styler at 0x214b7a00130>"
      ]
     },
     "execution_count": 9,
     "metadata": {},
     "output_type": "execute_result"
    }
   ],
   "source": [
    "corr_matrix = echo_tracks.corr(method='pearson')\n",
    "corr_matrix.style.background_gradient()"
   ]
  },
  {
   "cell_type": "markdown",
   "metadata": {},
   "source": [
    "## Task-3: Normalizing the feature data"
   ]
  },
  {
   "cell_type": "code",
   "execution_count": 10,
   "metadata": {},
   "outputs": [],
   "source": [
    "# Define our features \n",
    "features = echo_tracks.drop(['genre_top', 'track_id'], axis=1)"
   ]
  },
  {
   "cell_type": "code",
   "execution_count": 11,
   "metadata": {},
   "outputs": [],
   "source": [
    "# Define our labels\n",
    "labels = echo_tracks['genre_top']"
   ]
  },
  {
   "cell_type": "code",
   "execution_count": 12,
   "metadata": {},
   "outputs": [],
   "source": [
    "# Import the StandardScaler\n",
    "from sklearn.preprocessing import StandardScaler"
   ]
  },
  {
   "cell_type": "code",
   "execution_count": 13,
   "metadata": {},
   "outputs": [
    {
     "data": {
      "text/html": [
       "<div>\n",
       "<style scoped>\n",
       "    .dataframe tbody tr th:only-of-type {\n",
       "        vertical-align: middle;\n",
       "    }\n",
       "\n",
       "    .dataframe tbody tr th {\n",
       "        vertical-align: top;\n",
       "    }\n",
       "\n",
       "    .dataframe thead th {\n",
       "        text-align: right;\n",
       "    }\n",
       "</style>\n",
       "<table border=\"1\" class=\"dataframe\">\n",
       "  <thead>\n",
       "    <tr style=\"text-align: right;\">\n",
       "      <th></th>\n",
       "      <th>0</th>\n",
       "      <th>1</th>\n",
       "      <th>2</th>\n",
       "      <th>3</th>\n",
       "      <th>4</th>\n",
       "      <th>5</th>\n",
       "      <th>6</th>\n",
       "      <th>7</th>\n",
       "    </tr>\n",
       "  </thead>\n",
       "  <tbody>\n",
       "    <tr>\n",
       "      <th>0</th>\n",
       "      <td>1.361706</td>\n",
       "      <td>-0.985896</td>\n",
       "      <td>1.453323</td>\n",
       "      <td>0.979975</td>\n",
       "      <td>-0.442757</td>\n",
       "      <td>-0.364157</td>\n",
       "      <td>-1.072003</td>\n",
       "      <td>-1.573102</td>\n",
       "    </tr>\n",
       "    <tr>\n",
       "      <th>1</th>\n",
       "      <td>1.312342</td>\n",
       "      <td>-0.455681</td>\n",
       "      <td>-2.463985</td>\n",
       "      <td>0.937757</td>\n",
       "      <td>-0.496436</td>\n",
       "      <td>-0.498224</td>\n",
       "      <td>-2.145066</td>\n",
       "      <td>-1.567050</td>\n",
       "    </tr>\n",
       "    <tr>\n",
       "      <th>2</th>\n",
       "      <td>1.343645</td>\n",
       "      <td>-1.604002</td>\n",
       "      <td>1.176091</td>\n",
       "      <td>0.964802</td>\n",
       "      <td>1.165836</td>\n",
       "      <td>-0.118903</td>\n",
       "      <td>-1.022854</td>\n",
       "      <td>-1.571949</td>\n",
       "    </tr>\n",
       "    <tr>\n",
       "      <th>3</th>\n",
       "      <td>1.363976</td>\n",
       "      <td>-1.147674</td>\n",
       "      <td>0.400404</td>\n",
       "      <td>-0.905888</td>\n",
       "      <td>-0.635199</td>\n",
       "      <td>-0.352735</td>\n",
       "      <td>-0.951969</td>\n",
       "      <td>-1.594372</td>\n",
       "    </tr>\n",
       "    <tr>\n",
       "      <th>4</th>\n",
       "      <td>1.085570</td>\n",
       "      <td>-0.752319</td>\n",
       "      <td>0.488500</td>\n",
       "      <td>0.841695</td>\n",
       "      <td>-0.321565</td>\n",
       "      <td>-0.110309</td>\n",
       "      <td>-0.847319</td>\n",
       "      <td>-1.424831</td>\n",
       "    </tr>\n",
       "  </tbody>\n",
       "</table>\n",
       "</div>"
      ],
      "text/plain": [
       "          0         1         2         3         4         5         6  \\\n",
       "0  1.361706 -0.985896  1.453323  0.979975 -0.442757 -0.364157 -1.072003   \n",
       "1  1.312342 -0.455681 -2.463985  0.937757 -0.496436 -0.498224 -2.145066   \n",
       "2  1.343645 -1.604002  1.176091  0.964802  1.165836 -0.118903 -1.022854   \n",
       "3  1.363976 -1.147674  0.400404 -0.905888 -0.635199 -0.352735 -0.951969   \n",
       "4  1.085570 -0.752319  0.488500  0.841695 -0.321565 -0.110309 -0.847319   \n",
       "\n",
       "          7  \n",
       "0 -1.573102  \n",
       "1 -1.567050  \n",
       "2 -1.571949  \n",
       "3 -1.594372  \n",
       "4 -1.424831  "
      ]
     },
     "execution_count": 13,
     "metadata": {},
     "output_type": "execute_result"
    }
   ],
   "source": [
    "# Scale the features and set the values to a new variable\n",
    "scaler = StandardScaler()\n",
    "scaled_train_features = scaler.fit_transform(features)\n",
    "pd.DataFrame(scaled_train_features).head()"
   ]
  },
  {
   "cell_type": "markdown",
   "metadata": {},
   "source": [
    "## Task-4: Principal Component Analysis on our scaled data"
   ]
  },
  {
   "cell_type": "code",
   "execution_count": 14,
   "metadata": {},
   "outputs": [],
   "source": [
    "# This is just to make plots appear in the notebook\n",
    "%matplotlib inline"
   ]
  },
  {
   "cell_type": "code",
   "execution_count": 15,
   "metadata": {},
   "outputs": [],
   "source": [
    "# Import our plotting module, and PCA class\n",
    "import matplotlib.pyplot as plt\n",
    "from sklearn.decomposition import PCA"
   ]
  },
  {
   "cell_type": "code",
   "execution_count": 16,
   "metadata": {},
   "outputs": [],
   "source": [
    "# Get our explained variance ratios from PCA using all features\n",
    "pca = PCA()\n",
    "pca.fit(scaled_train_features)\n",
    "exp_variance = pca.explained_variance_ratio_"
   ]
  },
  {
   "cell_type": "code",
   "execution_count": 17,
   "metadata": {},
   "outputs": [
    {
     "data": {
      "text/plain": [
       "Text(0.5, 0, 'Principal Component #')"
      ]
     },
     "execution_count": 17,
     "metadata": {},
     "output_type": "execute_result"
    },
    {
     "data": {
      "image/png": "[encoded data removed]",
      "text/plain": [
       "<Figure size 432x288 with 1 Axes>"
      ]
     },
     "metadata": {
      "needs_background": "light"
     },
     "output_type": "display_data"
    }
   ],
   "source": [
    "# plot the explained variance using a barplot\n",
    "fig, ax = plt.subplots()\n",
    "ax.bar(range(8), exp_variance)\n",
    "ax.set_xlabel('Principal Component #')"
   ]
  },
  {
   "cell_type": "markdown",
   "metadata": {},
   "source": [
    "## Task-5: Further Visualization of PCA"
   ]
  },
  {
   "cell_type": "markdown",
   "metadata": {},
   "source": [
    "### The above Scree plot does not gave us a clear Elbow, So we are going with Cumulative Explained Variance Plot"
   ]
  },
  {
   "cell_type": "code",
   "execution_count": 18,
   "metadata": {},
   "outputs": [
    {
     "data": {
      "text/plain": [
       "PCA()"
      ]
     },
     "execution_count": 18,
     "metadata": {},
     "output_type": "execute_result"
    }
   ],
   "source": [
    "# Get our explained variance ratios from PCA using all features\n",
    "from sklearn.decomposition import PCA\n",
    "pca=PCA()\n",
    "pca.fit(scaled_train_features)"
   ]
  },
  {
   "cell_type": "code",
   "execution_count": 19,
   "metadata": {},
   "outputs": [
    {
     "data": {
      "text/plain": [
       "array([0.24297674, 0.4234199 , 0.55992299, 0.68986388, 0.80042636,\n",
       "       0.88344881, 0.95268664, 1.        ])"
      ]
     },
     "execution_count": 19,
     "metadata": {},
     "output_type": "execute_result"
    }
   ],
   "source": [
    "exp_variance=pca.explained_variance_ratio_\n",
    "cum_exp_variance=np.cumsum(exp_variance)\n",
    "cum_exp_variance"
   ]
  },
  {
   "cell_type": "code",
   "execution_count": 20,
   "metadata": {},
   "outputs": [
    {
     "data": {
      "image/png": "[encoded data removed]",
      "text/plain": [
       "<Figure size 432x288 with 1 Axes>"
      ]
     },
     "metadata": {
      "needs_background": "light"
     },
     "output_type": "display_data"
    }
   ],
   "source": [
    "# Plot the cumulative explained variance and draw a dashed line at 0.95.\n",
    "fig,ax=plt.subplots()\n",
    "ax.plot(cum_exp_variance,color='r')\n",
    "ax.axhline(y=0.95,linestyle='--')\n",
    "plt.grid()\n",
    "plt.show()"
   ]
  },
  {
   "cell_type": "markdown",
   "metadata": {},
   "source": [
    "### From the above plot we can see optimal number of features needed is 6, so we assign 6 for n_components for PCA"
   ]
  },
  {
   "cell_type": "code",
   "execution_count": 21,
   "metadata": {},
   "outputs": [],
   "source": [
    "n_components = 6\n",
    "\n",
    "# Perform PCA with the chosen number of components and project data onto components\n",
    "pca = PCA(n_components)\n",
    "pca.fit(scaled_train_features)\n",
    "pca_projection = pca.transform(scaled_train_features)"
   ]
  },
  {
   "cell_type": "code",
   "execution_count": 22,
   "metadata": {},
   "outputs": [
    {
     "data": {
      "text/plain": [
       "(4802, 6)"
      ]
     },
     "execution_count": 22,
     "metadata": {},
     "output_type": "execute_result"
    }
   ],
   "source": [
    "pca_projection.shape"
   ]
  },
  {
   "cell_type": "markdown",
   "metadata": {},
   "source": [
    "## Task-6: Train a Decision Tree to Classify Genre"
   ]
  },
  {
   "cell_type": "code",
   "execution_count": 23,
   "metadata": {},
   "outputs": [],
   "source": [
    "# Splitting data to Train and Test\n",
    "from sklearn.model_selection import train_test_split\n",
    "features_train,features_test,labels_train,labels_test=train_test_split(pca_projection,labels,test_size=0.3)"
   ]
  },
  {
   "cell_type": "code",
   "execution_count": 24,
   "metadata": {},
   "outputs": [],
   "source": [
    "# Model Building\n",
    "from sklearn.tree import DecisionTreeClassifier\n",
    "dtc=DecisionTreeClassifier()\n",
    "dtc.fit(features_train,labels_train)\n",
    "dtc_pred=dtc.predict(features_test)"
   ]
  },
  {
   "cell_type": "code",
   "execution_count": 25,
   "metadata": {},
   "outputs": [
    {
     "data": {
      "text/plain": [
       "0.8584316446911867"
      ]
     },
     "execution_count": 25,
     "metadata": {},
     "output_type": "execute_result"
    }
   ],
   "source": [
    "# Calculating Accuracy Score of the Model\n",
    "from sklearn.metrics import accuracy_score\n",
    "score=accuracy_score(labels_test,dtc_pred)\n",
    "score"
   ]
  },
  {
   "cell_type": "code",
   "execution_count": 26,
   "metadata": {},
   "outputs": [
    {
     "data": {
      "text/html": [
       "<div>\n",
       "<style scoped>\n",
       "    .dataframe tbody tr th:only-of-type {\n",
       "        vertical-align: middle;\n",
       "    }\n",
       "\n",
       "    .dataframe tbody tr th {\n",
       "        vertical-align: top;\n",
       "    }\n",
       "\n",
       "    .dataframe thead th {\n",
       "        text-align: right;\n",
       "    }\n",
       "</style>\n",
       "<table border=\"1\" class=\"dataframe\">\n",
       "  <thead>\n",
       "    <tr style=\"text-align: right;\">\n",
       "      <th></th>\n",
       "      <th>Genre Actual</th>\n",
       "      <th>Genre Predicted</th>\n",
       "    </tr>\n",
       "  </thead>\n",
       "  <tbody>\n",
       "    <tr>\n",
       "      <th>0</th>\n",
       "      <td>Rock</td>\n",
       "      <td>Hip-Hop</td>\n",
       "    </tr>\n",
       "    <tr>\n",
       "      <th>1</th>\n",
       "      <td>Rock</td>\n",
       "      <td>Rock</td>\n",
       "    </tr>\n",
       "    <tr>\n",
       "      <th>2</th>\n",
       "      <td>Rock</td>\n",
       "      <td>Rock</td>\n",
       "    </tr>\n",
       "    <tr>\n",
       "      <th>3</th>\n",
       "      <td>Rock</td>\n",
       "      <td>Rock</td>\n",
       "    </tr>\n",
       "    <tr>\n",
       "      <th>4</th>\n",
       "      <td>Rock</td>\n",
       "      <td>Rock</td>\n",
       "    </tr>\n",
       "  </tbody>\n",
       "</table>\n",
       "</div>"
      ],
      "text/plain": [
       "  Genre Actual Genre Predicted\n",
       "0         Rock         Hip-Hop\n",
       "1         Rock            Rock\n",
       "2         Rock            Rock\n",
       "3         Rock            Rock\n",
       "4         Rock            Rock"
      ]
     },
     "execution_count": 26,
     "metadata": {},
     "output_type": "execute_result"
    }
   ],
   "source": [
    "# Comparing both original and predicted  labels for valuation\n",
    "output=dtc.predict(pca_projection)\n",
    "Genre=pd.DataFrame({\"Genre Actual\":labels,\"Genre Predicted\":output})\n",
    "Genre.head()"
   ]
  },
  {
   "cell_type": "markdown",
   "metadata": {},
   "source": [
    "### Although our tree's performance is decent, it's a bad idea to immediately assume that, its therefore the perfect tool for this job -- there's always the possibility of other models that will perform even better! It's always a worthwhile idea to at least test a few other algorithms and find the one that's best for our data.\n"
   ]
  },
  {
   "cell_type": "markdown",
   "metadata": {},
   "source": [
    "## Task-7: Building a Logistic Model and  Comparing it with Decision Tree"
   ]
  },
  {
   "cell_type": "code",
   "execution_count": 27,
   "metadata": {},
   "outputs": [],
   "source": [
    "# Importing a logistic regression\n",
    "from sklearn.linear_model import LogisticRegression"
   ]
  },
  {
   "cell_type": "code",
   "execution_count": 28,
   "metadata": {},
   "outputs": [],
   "source": [
    "# Training the logistic model \n",
    "lr=LogisticRegression()\n",
    "lr.fit(features_train,labels_train) \n",
    "lr_pred=lr.predict(features_test)"
   ]
  },
  {
   "cell_type": "code",
   "execution_count": 29,
   "metadata": {},
   "outputs": [
    {
     "data": {
      "text/plain": [
       "0.8813324080499653"
      ]
     },
     "execution_count": 29,
     "metadata": {},
     "output_type": "execute_result"
    }
   ],
   "source": [
    "from sklearn.metrics import accuracy_score\n",
    "score=accuracy_score(labels_test,lr_pred)\n",
    "score"
   ]
  },
  {
   "cell_type": "code",
   "execution_count": 30,
   "metadata": {},
   "outputs": [],
   "source": [
    "# Importing a Decision Tree Classifier\n",
    "from sklearn.tree import DecisionTreeClassifier\n",
    "dtc=DecisionTreeClassifier()\n",
    "dtc.fit(features_train,labels_train)\n",
    "dtc_pred=dtc.predict(features_test)"
   ]
  },
  {
   "cell_type": "code",
   "execution_count": 31,
   "metadata": {},
   "outputs": [
    {
     "data": {
      "text/plain": [
       "0.8528799444829979"
      ]
     },
     "execution_count": 31,
     "metadata": {},
     "output_type": "execute_result"
    }
   ],
   "source": [
    "from sklearn.metrics import accuracy_score\n",
    "score=accuracy_score(labels_test,dtc_pred)\n",
    "score"
   ]
  },
  {
   "cell_type": "markdown",
   "metadata": {},
   "source": [
    "### Thus we can observe that the accuracy score of the logistic model (88.2%) is little  higher than that of decision tree (85.3%)"
   ]
  },
  {
   "cell_type": "code",
   "execution_count": 32,
   "metadata": {},
   "outputs": [
    {
     "name": "stdout",
     "output_type": "stream",
     "text": [
      " DECISION TREE CLASSIFICATION REPORT:\n",
      "               precision    recall  f1-score   support\n",
      "\n",
      "     Hip-Hop       0.57      0.66      0.61       256\n",
      "        Rock       0.92      0.89      0.91      1185\n",
      "\n",
      "    accuracy                           0.85      1441\n",
      "   macro avg       0.75      0.78      0.76      1441\n",
      "weighted avg       0.86      0.85      0.86      1441\n",
      "\n",
      " LOGISTIC MODEL CLASSIFICATION REPORT:\n",
      "               precision    recall  f1-score   support\n",
      "\n",
      "     Hip-Hop       0.74      0.52      0.61       256\n",
      "        Rock       0.90      0.96      0.93      1185\n",
      "\n",
      "    accuracy                           0.88      1441\n",
      "   macro avg       0.82      0.74      0.77      1441\n",
      "weighted avg       0.87      0.88      0.87      1441\n",
      "\n"
     ]
    }
   ],
   "source": [
    "from sklearn.metrics import classification_report\n",
    "report_tree=classification_report(labels_test,dtc_pred)\n",
    "report_logit=classification_report(labels_test,lr_pred)\n",
    "print(\" DECISION TREE CLASSIFICATION REPORT:\\n\", report_tree)\n",
    "print(\" LOGISTIC MODEL CLASSIFICATION REPORT:\\n\", report_logit)"
   ]
  },
  {
   "cell_type": "markdown",
   "metadata": {},
   "source": [
    "## Task-8: Balance our Data for Greater Performance"
   ]
  },
  {
   "cell_type": "markdown",
   "metadata": {},
   "source": [
    "### Both our models do similarly well, boasting an average precision of 87% each. However, looking at our classification report, we can see that rock songs are fairly well classified, but hip-hop songs are disproportionately misclassified as rock songs."
   ]
  },
  {
   "cell_type": "code",
   "execution_count": 33,
   "metadata": {},
   "outputs": [],
   "source": [
    "# Subsetting the hip-hop tracks and then subsetting the rock tracks.\n",
    "hhop_tracks=echo_tracks.loc[echo_tracks['genre_top']== 'Hip-Hop']\n",
    "rock_tracks=echo_tracks.loc[echo_tracks['genre_top']== 'Rock']\n"
   ]
  },
  {
   "cell_type": "code",
   "execution_count": 34,
   "metadata": {},
   "outputs": [],
   "source": [
    "# Balancing the no of rock song with the no of hip-hop songs\n",
    "rock_tracks=rock_tracks.sample(n=len(hhop_tracks))"
   ]
  },
  {
   "cell_type": "code",
   "execution_count": 35,
   "metadata": {},
   "outputs": [],
   "source": [
    "# Now we are merging the dataframe of hhop_track and rock_tracks\n",
    "final_rock_hop=pd.concat([hhop_tracks,rock_tracks])"
   ]
  },
  {
   "cell_type": "code",
   "execution_count": 36,
   "metadata": {},
   "outputs": [],
   "source": [
    "# The features ,labels and pca projection are created for the final balanced dataframe\n",
    "features = final_rock_hop.drop(['genre_top', 'track_id'], axis=1) \n",
    "labels = final_rock_hop['genre_top']\n",
    "pca_projection = pca.fit_transform(scaler.fit_transform(features))"
   ]
  },
  {
   "cell_type": "code",
   "execution_count": 37,
   "metadata": {},
   "outputs": [],
   "source": [
    "# Splitting the final balanced data into test and train with the pca_projection.\n",
    "features_train,features_test,labels_train,labels_test= train_test_split(pca_projection,labels)"
   ]
  },
  {
   "cell_type": "markdown",
   "metadata": {},
   "source": [
    "## Task-9 : Does balancing our dataset improve model bias?"
   ]
  },
  {
   "cell_type": "code",
   "execution_count": 38,
   "metadata": {},
   "outputs": [
    {
     "name": "stdout",
     "output_type": "stream",
     "text": [
      "Decision Tree: \n",
      "               precision    recall  f1-score   support\n",
      "\n",
      "     Hip-Hop       0.78      0.77      0.77       236\n",
      "        Rock       0.75      0.76      0.76       219\n",
      "\n",
      "    accuracy                           0.76       455\n",
      "   macro avg       0.76      0.76      0.76       455\n",
      "weighted avg       0.76      0.76      0.76       455\n",
      "\n",
      "Logistic Regression: \n",
      "               precision    recall  f1-score   support\n",
      "\n",
      "     Hip-Hop       0.84      0.86      0.85       236\n",
      "        Rock       0.85      0.82      0.83       219\n",
      "\n",
      "    accuracy                           0.84       455\n",
      "   macro avg       0.84      0.84      0.84       455\n",
      "weighted avg       0.84      0.84      0.84       455\n",
      "\n"
     ]
    }
   ],
   "source": [
    "# Train our decision tree on the balanced data\n",
    "dtc = DecisionTreeClassifier(random_state=10)\n",
    "dtc.fit(features_train,labels_train)\n",
    "pred_labels_tree = dtc.predict(features_test)\n",
    "\n",
    "# Train our logistic regression and predict labels for the test set\n",
    "lr = LogisticRegression(random_state=10)\n",
    "lr.fit(features_train, labels_train)\n",
    "pred_labels_logit = lr.predict(features_test)\n",
    "\n",
    "# Create the classification report for both models\n",
    "from sklearn.metrics import classification_report\n",
    "class_rep_tree = classification_report(labels_test, pred_labels_tree)\n",
    "class_rep_log = classification_report(labels_test, pred_labels_logit)\n",
    "\n",
    "print(\"Decision Tree: \\n\", class_rep_tree)\n",
    "print(\"Logistic Regression: \\n\", class_rep_log)"
   ]
  },
  {
   "cell_type": "markdown",
   "metadata": {},
   "source": [
    "### Thus we can see that balancing our data has removed bias towards the more prevalent class. To get a good sense of how well our models are actually performing, we can apply what’s called cross-validation(CV). This step allows us to compare models in a more rigorous fashion."
   ]
  },
  {
   "cell_type": "markdown",
   "metadata": {},
   "source": [
    "## Task-10: Using cross-validation to evaluate our models\n",
    "\n",
    "### We will use what’s known as K-fold cross-validation here. K-fold first splits the data into K different, equally sized subsets. Then, it iteratively uses each subset as a test set while using the remainder of the data as train sets."
   ]
  },
  {
   "cell_type": "code",
   "execution_count": 39,
   "metadata": {},
   "outputs": [
    {
     "name": "stderr",
     "output_type": "stream",
     "text": [
      "E:\\Anaconda\\lib\\site-packages\\sklearn\\model_selection\\_split.py:293: FutureWarning: Setting a random_state has no effect since shuffle is False. This will raise an error in 0.24. You should leave random_state to its default (None), or set shuffle=True.\n",
      "  warnings.warn(\n"
     ]
    },
    {
     "name": "stdout",
     "output_type": "stream",
     "text": [
      "Decision Tree: 0.717032967032967 Logistic Regression: 0.7785714285714286\n"
     ]
    }
   ],
   "source": [
    "from sklearn.model_selection import KFold, cross_val_score\n",
    "\n",
    "# Set up our K-fold cross-validation\n",
    "kf = KFold(n_splits=10, random_state=10)\n",
    "\n",
    "tree = DecisionTreeClassifier(random_state=10)\n",
    "logreg = LogisticRegression(random_state=10)\n",
    "\n",
    "# Train our models using KFold cv\n",
    "tree_score = cross_val_score(tree, pca_projection, labels, cv=kf)\n",
    "logit_score = cross_val_score(logreg, pca_projection, labels, cv=kf)\n",
    "\n",
    "# Print the mean of each array of scores\n",
    "print(\"Decision Tree:\", np.mean(tree_score), \"Logistic Regression:\", np.mean(logit_score))"
   ]
  },
  {
   "cell_type": "markdown",
   "metadata": {},
   "source": [
    "### Thus we can be say that our model will generalize 75% of the times on the future unseen data points."
   ]
  }
 ],
 "metadata": {
  "kernelspec": {
   "display_name": "Python 3",
   "language": "python",
   "name": "python3"
  },
  "language_info": {
   "codemirror_mode": {
    "name": "ipython",
    "version": 3
   },
   "file_extension": ".py",
   "mimetype": "text/x-python",
   "name": "python",
   "nbconvert_exporter": "python",
   "pygments_lexer": "ipython3",
   "version": "3.8.5"
  }
 },
 "nbformat": 4,
 "nbformat_minor": 4
}
